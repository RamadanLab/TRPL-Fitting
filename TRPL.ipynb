{
 "cells": [
  {
   "cell_type": "code",
   "execution_count": 32,
   "id": "228569d0-654d-4b9d-bdb9-200bb8b760ad",
   "metadata": {},
   "outputs": [],
   "source": [
    "import matplotlib.pyplot as plt\n",
    "import numpy as np\n",
    "import pandas as pd\n",
    "from lmfit import Model\n",
    "import os\n",
    "from tkinter import Tk\n",
    "from tkinter import filedialog\n",
    "from scipy.special import gamma"
   ]
  },
  {
   "cell_type": "markdown",
   "id": "4ce64b2c-6d80-4cba-9c0f-658bf7dc8438",
   "metadata": {},
   "source": [
    "## **🔽Manual file selection🔽** ##\n",
    "\n",
    "*use this if you don't have a separate background file for each sample file*"
   ]
  },
  {
   "cell_type": "code",
   "execution_count": 23,
   "id": "a6014115-0041-4ee0-82ec-b164cd06aaa2",
   "metadata": {},
   "outputs": [],
   "source": [
    "################################\n",
    "# to do - pull out backgrounds from file names in directory, and make data selection w tinker\n",
    "################################\n",
    "\n",
    "figure_folder = r'G:\\My Drive\\Data\\TCSPC\\24-11-21_ST040'\n",
    "figure_suffix = 'FPEA_FBZA_MAPI'\n",
    "\n",
    "files = [pd.read_csv(r'G:\\My Drive\\Data\\TCSPC\\24-11-21_ST040\\ST040_Q5_n=4_FPhA_735nm_60s_int_5MHz.dat', sep='\\t'),\n",
    "    pd.read_csv(r'G:\\My Drive\\Data\\TCSPC\\24-11-21_ST040\\ST040_Q4_n=4_FPEA_740nm_60s_int_5MHz.dat', sep='\\t'),\n",
    "    pd.read_csv(r'G:\\My Drive\\Data\\TCSPC\\24-11-21_ST040\\ST040_Q5_n=4_MAPI_765nm_120s_int_2.5MHz.dat', sep='\\t')\n",
    "]\n",
    "backgrounds = [pd.read_csv(r'G:\\My Drive\\Data\\TCSPC\\24-11-21_ST040\\bg_ST040_Q4_n=4_FPEA_740nm_60s_int_5MHz.dat', sep='\\t'),\n",
    "    pd.read_csv(r'G:\\My Drive\\Data\\TCSPC\\24-11-21_ST040\\bg_ST040_Q4_n=4_FPEA_740nm_60s_int_5MHz.dat', sep='\\t'),\n",
    "    pd.read_csv(r'G:\\My Drive\\Data\\TCSPC\\24-11-21_ST040\\Bg_ST040_Q5_n=4_MAPI_765nm_120s_int_2.5MHz.dat', sep='\\t')\n",
    "]\n",
    "labels = ['FBZA', 'FPEA', 'MAPI']\n",
    "\n",
    "# Input end point for fitting # \n",
    "\n",
    "end_time = 175"
   ]
  },
  {
   "cell_type": "markdown",
   "id": "7c9a4bb8-3d04-4a7a-b18e-cf04b122a1f7",
   "metadata": {},
   "source": [
    "## **⬆️Manual file selection⬆️** ##\n",
    "\n",
    "*use this if you don't have a separate background file for each sample file*"
   ]
  },
  {
   "cell_type": "markdown",
   "id": "8b88ce08-c321-4fc5-9b24-ecbd2e70fba9",
   "metadata": {},
   "source": [
    "## **🔽Automated background extraction🔽** ##\n",
    "\n",
    "*for now this requires a separate background file for each sample file*"
   ]
  },
  {
   "cell_type": "code",
   "execution_count": 43,
   "id": "6e1a60f9-b1d0-4bbd-80ac-daca0d9de8ff",
   "metadata": {},
   "outputs": [],
   "source": [
    "## CHANGE THESE ##\n",
    "\n",
    "directory = r'C:\\Users\\sophi\\Downloads\\drive-download-20241217T144426Z-001' ## Where is the data saved? ##\n",
    "labels = ['MAPI'] ## labels for each file ##\n",
    "\n",
    "end_time = 200 ## when decay measurement stopped in ns ##\n",
    "\n",
    "figure_folder = r'C:\\Users\\sophi\\Downloads\\drive-download-20241217T144426Z-001' ### where to save final plot ###\n",
    "figure_suffix = 'testing' ### suffix for plot title ###"
   ]
  },
  {
   "cell_type": "code",
   "execution_count": 44,
   "id": "f07b5f37-9aa1-431c-b10d-00fac79691f8",
   "metadata": {},
   "outputs": [],
   "source": [
    "############################################################\n",
    "# file selection #\n",
    "os.chdir(str(directory)) \n",
    "cwd = os.getcwd()\n",
    "\n",
    "root = Tk()\n",
    "root.lift()\n",
    "root.withdraw()\n",
    "selectedfiles = filedialog.askopenfilenames(parent = root)\n",
    "selectedfileslist = root.tk.splitlist(selectedfiles)\n",
    "root.withdraw()\n",
    "\n",
    "############################################################\n",
    "\n",
    "directory = directory.replace('\\\\', '/') + '/'\n",
    "filenames = [item.replace(directory, '') for item in selectedfileslist]\n",
    "\n",
    "\n",
    "whole_directory_list = os.listdir(directory)\n",
    "files = [pd.read_csv(directory + filename, sep = '\\t') for filename in filenames]\n",
    "\n",
    "backgroundnames = ['bg_' + filename for filename in filenames if 'bg_' + filename in whole_directory_list]\n",
    "backgrounds = [pd.read_csv(directory + backgroundname, sep = '\\t') for backgroundname in backgroundnames]\n",
    "\n",
    "####################################################################\n",
    "# checking that we have backgrounds for all files #\n",
    "\n",
    "if len(backgroundnames) < len(files):\n",
    "    for filename in filenames:\n",
    "        if 'bg_' + filename in backgroundnames:\n",
    "            continue\n",
    "        else:\n",
    "           print(f'background not found for {filename}. Check that the background file is saved appropriately (bg_filename).')\n",
    "\n",
    "######################################################################\n",
    "## assert or try except"
   ]
  },
  {
   "cell_type": "markdown",
   "id": "0363b983-4b6c-4795-bd21-fee3b93a0e45",
   "metadata": {},
   "source": [
    "## **⬆️Automated background extraction⬆️** ##\n",
    "\n",
    "*for now this requires a separate background file for each sample file*"
   ]
  },
  {
   "cell_type": "markdown",
   "id": "90b6b8d4-7a57-4d87-8a31-3a4b1aa887ca",
   "metadata": {},
   "source": [
    "##  **👇Once the data is selected, run the below cells to fit + plot the data👇** ##"
   ]
  },
  {
   "cell_type": "code",
   "execution_count": 45,
   "id": "4c368ff2-88c3-450c-a775-a80a8f5ca51d",
   "metadata": {},
   "outputs": [],
   "source": [
    "def file_processing(file, bckg, end_time, label):\n",
    "    \n",
    "    \n",
    "    timestep = float(file.iloc[7].iloc[0])\n",
    "\n",
    "\n",
    "    # just taking off the header #\n",
    "    file = file.drop(labels=range(0, 9), axis=0).reset_index(drop=True)\n",
    "    bckg = bckg.drop(labels=range(0, 9), axis=0).reset_index(drop=True)\n",
    "    \n",
    "\n",
    "\n",
    "\n",
    "    # loading data into columns, taking off data before laser pulse\n",
    "    df = pd.DataFrame({label : file['#TimeHarp 260  Histogram Data'].astype(float)})\n",
    "    df['Background'] = bckg['#TimeHarp 260  Histogram Data'].astype(float)\n",
    "    start_index = df[label].idxmax()\n",
    "    df = df.drop(range(0, start_index-1)).reset_index(drop = True)\n",
    "\n",
    "    # add times using timestep\n",
    "    times = np.linspace(0, timestep * len(df[label]), num=len(df[label]), endpoint=False)\n",
    "    df['Time (ns)'] = times\n",
    "\n",
    "    # take off data after end of measurement\n",
    "    df = df.drop(range(df.iloc[(df['Time (ns)'] - end_time).abs().argsort()[:2]].index[0], df.index[-1] + 1))\n",
    "    \n",
    "\n",
    "    df[label] = df[label] - df['Background']\n",
    "    df[label] = df[label]/max(df[label])\n",
    "    with np.errstate(divide='ignore', invalid='ignore'): df['log ' + label] = np.log(df[label])\n",
    "    \n",
    "\n",
    "    \n",
    "    return df"
   ]
  },
  {
   "cell_type": "code",
   "execution_count": 50,
   "id": "d34dfe1e-dc74-4be6-ab52-03d844c00292",
   "metadata": {},
   "outputs": [],
   "source": [
    "########################################\n",
    "# processing & fitting data\n",
    "########################################\n",
    "\n",
    "\n",
    "df_list = [file_processing(file, bckg, end_time, label) for file, bckg, label in zip(files, backgrounds, labels)]\n",
    "\n",
    "def strexp(t, tau, beta, A):\n",
    "    return A * np.exp(-((t / tau) ** beta))\n",
    "\n",
    "\n",
    "def logstrexp(t, tau, beta, A):\n",
    "    return np.log(A) - (t/tau)**beta\n",
    "\n",
    "def trythis(t, k1, beta, k2, A1):\n",
    "    A2 = 1-A1\n",
    "    return (A1*(np.exp((-k1/beta)*t**beta)) + A2*(beta/((k2*t**beta) + beta)))\n",
    "\n",
    "\n",
    "model = Model(strexp)\n",
    "params = model.make_params()\n",
    "params.add('A', value=1, min=0, max=10, vary = True)\n",
    "params.add('tau', value=0.1, min=0, max=1000, vary = True)\n",
    "params.add('beta', value=0.8, min=0, max=1, vary = True)\n",
    "\n",
    "\n",
    "\n",
    "results = []\n",
    "fits = []\n",
    "taus = {}\n",
    "for df, label in zip(df_list, labels):\n",
    "    # result = model.fit(df['log ' + label], params, t=df['Time (ns)'], nan_policy='propagate')\n",
    "    result = model.fit(df[label], params, t=df['Time (ns)'], nan_policy='propagate')\n",
    "    tau = (result.params[\"tau\"].value/result.params[\"beta\"].value)*gamma(1/result.params[\"beta\"].value)\n",
    "    \n",
    "    results.append(result)\n",
    "    taus[label] = round(tau,2)\n",
    "    # fits.append(np.exp(result.best_fit))\n",
    "    fits.append(result.best_fit)\n",
    "    "
   ]
  },
  {
   "cell_type": "code",
   "execution_count": 51,
   "id": "697093ca-f886-4dc1-b4ae-37c0a32ac22d",
   "metadata": {},
   "outputs": [
    {
     "data": {
      "image/png": "[encoded data removed]",
      "text/plain": [
       "<Figure size 750x450 with 1 Axes>"
      ]
     },
     "metadata": {},
     "output_type": "display_data"
    },
    {
     "name": "stdout",
     "output_type": "stream",
     "text": [
      "{'MAPI': 5.19}\n"
     ]
    }
   ],
   "source": [
    "################################\n",
    "# Plotting\n",
    "################################\n",
    "\n",
    "\n",
    "fig, ax = plt.subplots(dpi=150, figsize=(5, 3))\n",
    "fitcolors = ['blueviolet', 'royalblue', 'k']\n",
    "datcolors = ['orchid', 'cadetblue', 'grey']\n",
    "\n",
    "for i, df in enumerate(df_list):\n",
    "    ax.plot(df['Time (ns)'], fits[i], color=fitcolors[i], label=labels[i])\n",
    "    ax.scatter(df['Time (ns)'], df[labels[i]], color=datcolors[i], marker='o', alpha=0.3, s = 0.3)\n",
    " \n",
    "\n",
    "ax.set_xlim(0,200)\n",
    "ax.set_ylim(0.000001, 10)\n",
    "ax.set_yscale('log')\n",
    "ax.set_ylabel('PL Intensity')\n",
    "ax.set_xlabel('Time after pulse (ns)')\n",
    "ax.tick_params(direction='in', which='both')\n",
    "ax.legend(loc='upper right', frameon=False)\n",
    "\n",
    "plt.tight_layout()\n",
    "plt.savefig(figure_folder + r'\\fitted_plot_' + figure_suffix)\n",
    "plt.show()\n",
    "\n",
    "print(taus)\n"
   ]
  },
  {
   "cell_type": "code",
   "execution_count": null,
   "id": "3be652d2-9fbe-44ed-946c-b9f87fbaeb2e",
   "metadata": {},
   "outputs": [],
   "source": []
  }
 ],
 "metadata": {
  "kernelspec": {
   "display_name": "Python 3 (ipykernel)",
   "language": "python",
   "name": "python3"
  },
  "language_info": {
   "codemirror_mode": {
    "name": "ipython",
    "version": 3
   },
   "file_extension": ".py",
   "mimetype": "text/x-python",
   "name": "python",
   "nbconvert_exporter": "python",
   "pygments_lexer": "ipython3",
   "version": "3.10.13"
  }
 },
 "nbformat": 4,
 "nbformat_minor": 5
}
